{
  "nbformat": 4,
  "nbformat_minor": 0,
  "metadata": {
    "colab": {
      "name": "otoai_classifier_vgg_convnet_finetuned_improved.ipynb",
      "provenance": [],
      "collapsed_sections": [],
      "authorship_tag": "ABX9TyOvHIIw7gKGoKcxaDGP3yrQ",
      "include_colab_link": true
    },
    "kernelspec": {
      "name": "python3",
      "display_name": "Python 3"
    },
    "accelerator": "GPU"
  },
  "cells": [
    {
      "cell_type": "markdown",
      "metadata": {
        "id": "view-in-github",
        "colab_type": "text"
      },
      "source": [
        "<a href=\"https://colab.research.google.com/github/JonathanMairena/Otoscope-Automation-and-Enhancement/blob/main/otoai_classifier_vgg_convnet_finetuned_improved.ipynb\" target=\"_parent\"><img src=\"https://colab.research.google.com/assets/colab-badge.svg\" alt=\"Open In Colab\"/></a>"
      ]
    },
    {
      "cell_type": "markdown",
      "metadata": {
        "id": "5cevwrRDSkWY"
      },
      "source": [
        "#Load and preprocess data "
      ]
    },
    {
      "cell_type": "code",
      "metadata": {
        "colab": {
          "base_uri": "https://localhost:8080/"
        },
        "id": "b6QmZ42eSmW7",
        "outputId": "804149ec-f3f0-42d8-a817-83de4e771c0c"
      },
      "source": [
        "## access images in drive \n",
        "from google.colab import drive\n",
        "drive.mount('/content/drive')\n",
        "%cd /content/drive/My\\ Drive/Senior\\ Design/"
      ],
      "execution_count": null,
      "outputs": [
        {
          "output_type": "stream",
          "text": [
            "Drive already mounted at /content/drive; to attempt to forcibly remount, call drive.mount(\"/content/drive\", force_remount=True).\n",
            "/content/drive/My Drive/Senior Design\n"
          ],
          "name": "stdout"
        }
      ]
    },
    {
      "cell_type": "code",
      "metadata": {
        "colab": {
          "base_uri": "https://localhost:8080/"
        },
        "id": "xaBxr2tLSrHC",
        "outputId": "40b88b4f-4465-4756-a245-a18518e41c42"
      },
      "source": [
        "## assign directories for training and validation \n",
        "import os\n",
        "\n",
        "base_dir = '/content/drive/My Drive/Senior Design/database_custom_split/'\n",
        "train_dir = os.path.join(base_dir, 'train')\n",
        "validation_dir = os.path.join(base_dir, 'validation')\n",
        "\n",
        "# Directory with our training abnormal pictures\n",
        "train_abnormal_dir = os.path.join(train_dir, 'Abnormal')\n",
        "\n",
        "# Directory with our training normal pictures\n",
        "train_normal_dir = os.path.join(train_dir, 'Normal')\n",
        "\n",
        "# Directory with our validation abnormal pictures\n",
        "validation_abnormal_dir = os.path.join(validation_dir, 'Abnormal')\n",
        "\n",
        "# Directory with our validation normal pictures\n",
        "validation_normal_dir = os.path.join(validation_dir, 'Normal')\n",
        "\n",
        "# Check number of training and test images \n",
        "print('total training abnormal images:', len(os.listdir(train_abnormal_dir)))\n",
        "print('total training normal images:', len(os.listdir(train_normal_dir)))\n",
        "print('total validation abnormal images:', len(os.listdir(validation_abnormal_dir)))\n",
        "print('total validation normal images:', len(os.listdir(validation_normal_dir)))\n"
      ],
      "execution_count": null,
      "outputs": [
        {
          "output_type": "stream",
          "text": [
            "total training abnormal images: 847\n",
            "total training normal images: 637\n",
            "total validation abnormal images: 361\n",
            "total validation normal images: 271\n"
          ],
          "name": "stdout"
        }
      ]
    },
    {
      "cell_type": "code",
      "metadata": {
        "colab": {
          "base_uri": "https://localhost:8080/"
        },
        "id": "_Bvm6-oSS3hm",
        "outputId": "b8a9e4aa-d5cc-4717-dbd3-0fb9f8c11945"
      },
      "source": [
        "## data augmentation, flow train + validation images \n",
        "\n",
        "from tensorflow.keras.preprocessing.image import ImageDataGenerator\n",
        "\n",
        "# Adding rescale, rotation_range, width_shift_range, height_shift_range,\n",
        "# shear_range, zoom_range, and horizontal flip to our ImageDataGenerator\n",
        "train_datagen = ImageDataGenerator(\n",
        "    rescale=1./255,\n",
        "    rotation_range=40,\n",
        "    width_shift_range=0.2,\n",
        "    height_shift_range=0.2,\n",
        "    shear_range=0.2,\n",
        "    zoom_range=0.2,\n",
        "    horizontal_flip=True,)\n",
        "\n",
        "# Note that the validation data should not be augmented!\n",
        "val_datagen = ImageDataGenerator(rescale=1./255)\n",
        "\n",
        "# Flow training images in batches of 32 using train_datagen generator\n",
        "train_generator = train_datagen.flow_from_directory(\n",
        "        train_dir,  # This is the source directory for training images\n",
        "        target_size=(150, 150),  # All images will be resized to 150x150\n",
        "        batch_size=30,\n",
        "        # Since we use binary_crossentropy loss, we need binary labels\n",
        "        class_mode='binary')\n",
        "\n",
        "# Flow validation images in batches of 32 using val_datagen generator\n",
        "validation_generator = val_datagen.flow_from_directory(\n",
        "        validation_dir,\n",
        "        target_size=(150, 150),\n",
        "        batch_size=30,\n",
        "        class_mode='binary')\n"
      ],
      "execution_count": null,
      "outputs": [
        {
          "output_type": "stream",
          "text": [
            "Found 1484 images belonging to 2 classes.\n",
            "Found 632 images belonging to 2 classes.\n"
          ],
          "name": "stdout"
        }
      ]
    },
    {
      "cell_type": "markdown",
      "metadata": {
        "id": "1xscOli8VQYj"
      },
      "source": [
        "#ConvNet "
      ]
    },
    {
      "cell_type": "code",
      "metadata": {
        "id": "uOvSx37HVTpW"
      },
      "source": [
        "## Design architecture \n",
        "\n",
        "%tensorflow_version 2.x\n",
        "import tensorflow as tf\n",
        "from tensorflow.keras.preprocessing.image import ImageDataGenerator\n",
        "from tensorflow.keras.applications import VGG16\n",
        "from tensorflow.keras.layers import Dropout\n",
        "from tensorflow.keras.layers import Flatten\n",
        "from tensorflow.keras.layers import Dense\n",
        "from tensorflow.keras.layers import Input\n",
        "from tensorflow.keras.models import Model\n",
        "from tensorflow.keras.optimizers import Adam\n",
        "from sklearn.metrics import classification_report\n",
        "from imutils import paths\n",
        "import matplotlib.pyplot as plt\n",
        "import numpy as np\n",
        "import os\n",
        "\n",
        "# base model (pre-trained VGG-16)\n",
        "baseModel = VGG16(weights=\"imagenet\", include_top=False,\n",
        "\tinput_tensor=Input(shape=(150, 150, 3))) \n",
        "\n",
        "# loop over all layers in the base model and freeze them so they will\n",
        "# *not* be updated during the first training process\n",
        "for layer in baseModel.layers:\n",
        "\tlayer.trainable = False\n",
        "\n",
        "# input for headmodel is features extracted from pre-trained VGG-16 \n",
        "headModel = baseModel.output\n",
        "\n",
        "# Flatten the output layer to 1 dimension\n",
        "headModel = Flatten(name=\"flatten\")(headModel)\n",
        "\n",
        "# Add a fully connected layer with 512 hidden units and ReLU activation\n",
        "headModel = Dense(512, activation=\"relu\")(headModel)\n",
        "\n",
        "# Add a dropout rate of 0.5\n",
        "headModel = Dropout(0.5)(headModel)\n",
        "\n",
        "# Add a final sigmoid layer for classification\n",
        "headModel = Dense(1, activation=\"sigmoid\")(headModel)\n",
        "\n",
        "# Configure model \n",
        "model = Model(inputs=baseModel.input, outputs=headModel)\n",
        "\n",
        "# Configure and compile the model\n",
        "model.compile(loss='binary_crossentropy',\n",
        "              optimizer=Adam(lr=0.0001),\n",
        "              metrics=['acc'])\n"
      ],
      "execution_count": null,
      "outputs": []
    },
    {
      "cell_type": "code",
      "metadata": {
        "colab": {
          "base_uri": "https://localhost:8080/"
        },
        "id": "jwl4Yt-BZjAE",
        "outputId": "3c78cdeb-8927-4aea-d552-f8970e5efbcc"
      },
      "source": [
        "## train network\n",
        "with tf.device('/device:GPU:0'):  \n",
        "  history = model.fit_generator(\n",
        "        train_generator,\n",
        "        steps_per_epoch=49,\n",
        "        epochs=50,\n",
        "        validation_data=validation_generator,\n",
        "        validation_steps=21,\n",
        "        verbose=2)\n",
        "  "
      ],
      "execution_count": null,
      "outputs": [
        {
          "output_type": "stream",
          "text": [
            "/usr/local/lib/python3.6/dist-packages/tensorflow/python/keras/engine/training.py:1844: UserWarning: `Model.fit_generator` is deprecated and will be removed in a future version. Please use `Model.fit`, which supports generators.\n",
            "  warnings.warn('`Model.fit_generator` is deprecated and '\n"
          ],
          "name": "stderr"
        },
        {
          "output_type": "stream",
          "text": [
            "Epoch 1/50\n",
            "49/49 - 433s - loss: 0.6644 - acc: 0.5997 - val_loss: 0.5056 - val_acc: 0.7159\n",
            "Epoch 2/50\n",
            "49/49 - 24s - loss: 0.5745 - acc: 0.6788 - val_loss: 0.4995 - val_acc: 0.7603\n",
            "Epoch 3/50\n",
            "49/49 - 24s - loss: 0.5489 - acc: 0.6788 - val_loss: 0.4540 - val_acc: 0.7921\n",
            "Epoch 4/50\n",
            "49/49 - 24s - loss: 0.5291 - acc: 0.7098 - val_loss: 0.4633 - val_acc: 0.7746\n",
            "Epoch 5/50\n",
            "49/49 - 23s - loss: 0.5040 - acc: 0.7215 - val_loss: 0.4461 - val_acc: 0.7873\n",
            "Epoch 6/50\n",
            "49/49 - 23s - loss: 0.4963 - acc: 0.7400 - val_loss: 0.4373 - val_acc: 0.7825\n",
            "Epoch 7/50\n",
            "49/49 - 23s - loss: 0.5050 - acc: 0.7228 - val_loss: 0.4161 - val_acc: 0.8127\n",
            "Epoch 8/50\n",
            "49/49 - 23s - loss: 0.4925 - acc: 0.7221 - val_loss: 0.4269 - val_acc: 0.8000\n",
            "Epoch 9/50\n",
            "49/49 - 23s - loss: 0.4981 - acc: 0.7221 - val_loss: 0.4263 - val_acc: 0.7905\n",
            "Epoch 10/50\n",
            "49/49 - 23s - loss: 0.4649 - acc: 0.7531 - val_loss: 0.4283 - val_acc: 0.7873\n",
            "Epoch 11/50\n",
            "49/49 - 23s - loss: 0.4635 - acc: 0.7607 - val_loss: 0.4181 - val_acc: 0.7968\n",
            "Epoch 12/50\n",
            "49/49 - 23s - loss: 0.4660 - acc: 0.7600 - val_loss: 0.3962 - val_acc: 0.8190\n",
            "Epoch 13/50\n",
            "49/49 - 23s - loss: 0.4537 - acc: 0.7627 - val_loss: 0.3901 - val_acc: 0.8206\n",
            "Epoch 14/50\n",
            "49/49 - 23s - loss: 0.4576 - acc: 0.7662 - val_loss: 0.3897 - val_acc: 0.8000\n",
            "Epoch 15/50\n",
            "49/49 - 24s - loss: 0.4456 - acc: 0.7627 - val_loss: 0.4031 - val_acc: 0.8127\n",
            "Epoch 16/50\n",
            "49/49 - 23s - loss: 0.4602 - acc: 0.7600 - val_loss: 0.3943 - val_acc: 0.8159\n",
            "Epoch 17/50\n",
            "49/49 - 23s - loss: 0.4483 - acc: 0.7607 - val_loss: 0.3755 - val_acc: 0.8206\n",
            "Epoch 18/50\n",
            "49/49 - 23s - loss: 0.4547 - acc: 0.7600 - val_loss: 0.3757 - val_acc: 0.8190\n",
            "Epoch 19/50\n",
            "49/49 - 23s - loss: 0.4310 - acc: 0.7834 - val_loss: 0.3902 - val_acc: 0.8095\n",
            "Epoch 20/50\n",
            "49/49 - 23s - loss: 0.4444 - acc: 0.7689 - val_loss: 0.3760 - val_acc: 0.8302\n",
            "Epoch 21/50\n",
            "49/49 - 23s - loss: 0.4274 - acc: 0.7854 - val_loss: 0.3684 - val_acc: 0.8159\n",
            "Epoch 22/50\n",
            "49/49 - 23s - loss: 0.4203 - acc: 0.7785 - val_loss: 0.3623 - val_acc: 0.8222\n",
            "Epoch 23/50\n",
            "49/49 - 23s - loss: 0.4259 - acc: 0.7813 - val_loss: 0.3779 - val_acc: 0.8222\n",
            "Epoch 24/50\n",
            "49/49 - 23s - loss: 0.4334 - acc: 0.7765 - val_loss: 0.3748 - val_acc: 0.8238\n",
            "Epoch 25/50\n",
            "49/49 - 23s - loss: 0.4394 - acc: 0.7799 - val_loss: 0.3840 - val_acc: 0.8175\n",
            "Epoch 26/50\n",
            "49/49 - 23s - loss: 0.4190 - acc: 0.7909 - val_loss: 0.3916 - val_acc: 0.8095\n",
            "Epoch 27/50\n",
            "49/49 - 23s - loss: 0.4121 - acc: 0.8026 - val_loss: 0.3644 - val_acc: 0.8302\n",
            "Epoch 28/50\n",
            "49/49 - 24s - loss: 0.4142 - acc: 0.7813 - val_loss: 0.3602 - val_acc: 0.8270\n",
            "Epoch 29/50\n",
            "49/49 - 23s - loss: 0.4097 - acc: 0.7999 - val_loss: 0.3602 - val_acc: 0.8190\n",
            "Epoch 30/50\n",
            "49/49 - 23s - loss: 0.4106 - acc: 0.7964 - val_loss: 0.3581 - val_acc: 0.8349\n",
            "Epoch 31/50\n",
            "49/49 - 23s - loss: 0.4037 - acc: 0.8019 - val_loss: 0.3500 - val_acc: 0.8238\n",
            "Epoch 32/50\n",
            "49/49 - 23s - loss: 0.4267 - acc: 0.7806 - val_loss: 0.3539 - val_acc: 0.8222\n",
            "Epoch 33/50\n",
            "49/49 - 23s - loss: 0.4077 - acc: 0.7925 - val_loss: 0.3487 - val_acc: 0.8317\n",
            "Epoch 34/50\n",
            "49/49 - 23s - loss: 0.4093 - acc: 0.7964 - val_loss: 0.3724 - val_acc: 0.8222\n",
            "Epoch 35/50\n",
            "49/49 - 23s - loss: 0.4068 - acc: 0.7882 - val_loss: 0.3504 - val_acc: 0.8349\n",
            "Epoch 36/50\n",
            "49/49 - 23s - loss: 0.4139 - acc: 0.7939 - val_loss: 0.3469 - val_acc: 0.8286\n",
            "Epoch 37/50\n",
            "49/49 - 23s - loss: 0.4127 - acc: 0.7861 - val_loss: 0.3472 - val_acc: 0.8206\n",
            "Epoch 38/50\n",
            "49/49 - 23s - loss: 0.4033 - acc: 0.7882 - val_loss: 0.3745 - val_acc: 0.8206\n",
            "Epoch 39/50\n",
            "49/49 - 23s - loss: 0.4122 - acc: 0.7944 - val_loss: 0.3499 - val_acc: 0.8254\n",
            "Epoch 40/50\n",
            "49/49 - 23s - loss: 0.3958 - acc: 0.7999 - val_loss: 0.3407 - val_acc: 0.8317\n",
            "Epoch 41/50\n",
            "49/49 - 24s - loss: 0.3986 - acc: 0.7985 - val_loss: 0.3373 - val_acc: 0.8365\n",
            "Epoch 42/50\n",
            "49/49 - 23s - loss: 0.4001 - acc: 0.7909 - val_loss: 0.3446 - val_acc: 0.8302\n",
            "Epoch 43/50\n",
            "49/49 - 23s - loss: 0.3879 - acc: 0.8081 - val_loss: 0.3415 - val_acc: 0.8302\n",
            "Epoch 44/50\n",
            "49/49 - 23s - loss: 0.4134 - acc: 0.7840 - val_loss: 0.3590 - val_acc: 0.8317\n",
            "Epoch 45/50\n",
            "49/49 - 23s - loss: 0.3894 - acc: 0.8026 - val_loss: 0.3350 - val_acc: 0.8381\n",
            "Epoch 46/50\n",
            "49/49 - 23s - loss: 0.3961 - acc: 0.8012 - val_loss: 0.3431 - val_acc: 0.8238\n",
            "Epoch 47/50\n",
            "49/49 - 23s - loss: 0.3846 - acc: 0.8095 - val_loss: 0.3359 - val_acc: 0.8333\n",
            "Epoch 48/50\n",
            "49/49 - 23s - loss: 0.3906 - acc: 0.8102 - val_loss: 0.3316 - val_acc: 0.8444\n",
            "Epoch 49/50\n",
            "49/49 - 23s - loss: 0.3998 - acc: 0.7978 - val_loss: 0.3393 - val_acc: 0.8254\n",
            "Epoch 50/50\n",
            "49/49 - 23s - loss: 0.3768 - acc: 0.8150 - val_loss: 0.3462 - val_acc: 0.8222\n"
          ],
          "name": "stdout"
        }
      ]
    },
    {
      "cell_type": "code",
      "metadata": {
        "id": "aP0QjuvkctoD"
      },
      "source": [
        "## fine tuning vgg \n",
        "from tensorflow.keras.optimizers import SGD\n",
        "\n",
        "# unfreeze last conv block to fine tune \n",
        "for layer in baseModel.layers:\n",
        "\tlayer.trainable = True\n",
        "\n",
        "# As an optimizer, here we will use SGD \n",
        "# with a very low learning rate (0.00001)\n",
        "model.compile(loss='binary_crossentropy',\n",
        "              optimizer=SGD(\n",
        "                  lr=0.00001, \n",
        "                  momentum=0.9),\n",
        "              metrics=['acc'])"
      ],
      "execution_count": null,
      "outputs": []
    },
    {
      "cell_type": "code",
      "metadata": {
        "colab": {
          "base_uri": "https://localhost:8080/"
        },
        "id": "cCZF5-i_exGE",
        "outputId": "3a48b83f-f1fb-42cc-84b1-7b6fe32a18dd"
      },
      "source": [
        "## train network\n",
        "with tf.device('/device:GPU:0'):  \n",
        "  history = model.fit_generator(\n",
        "        train_generator,\n",
        "        steps_per_epoch=49,\n",
        "        epochs=50,\n",
        "        validation_data=validation_generator,\n",
        "        validation_steps=21,\n",
        "        verbose=2)\n"
      ],
      "execution_count": null,
      "outputs": [
        {
          "output_type": "stream",
          "text": [
            "/usr/local/lib/python3.6/dist-packages/tensorflow/python/keras/engine/training.py:1844: UserWarning: `Model.fit_generator` is deprecated and will be removed in a future version. Please use `Model.fit`, which supports generators.\n",
            "  warnings.warn('`Model.fit_generator` is deprecated and '\n"
          ],
          "name": "stderr"
        },
        {
          "output_type": "stream",
          "text": [
            "Epoch 1/50\n",
            "49/49 - 28s - loss: 0.3836 - acc: 0.8157 - val_loss: 0.3250 - val_acc: 0.8476\n",
            "Epoch 2/50\n",
            "49/49 - 26s - loss: 0.3650 - acc: 0.8212 - val_loss: 0.3206 - val_acc: 0.8508\n",
            "Epoch 3/50\n",
            "49/49 - 25s - loss: 0.3614 - acc: 0.8343 - val_loss: 0.3193 - val_acc: 0.8540\n",
            "Epoch 4/50\n",
            "49/49 - 25s - loss: 0.3620 - acc: 0.8246 - val_loss: 0.3211 - val_acc: 0.8365\n",
            "Epoch 5/50\n",
            "49/49 - 25s - loss: 0.3588 - acc: 0.8212 - val_loss: 0.3268 - val_acc: 0.8349\n",
            "Epoch 6/50\n",
            "49/49 - 25s - loss: 0.3650 - acc: 0.8219 - val_loss: 0.3161 - val_acc: 0.8492\n",
            "Epoch 7/50\n",
            "49/49 - 25s - loss: 0.3411 - acc: 0.8315 - val_loss: 0.3102 - val_acc: 0.8524\n",
            "Epoch 8/50\n",
            "49/49 - 25s - loss: 0.3356 - acc: 0.8418 - val_loss: 0.3208 - val_acc: 0.8397\n",
            "Epoch 9/50\n",
            "49/49 - 25s - loss: 0.3451 - acc: 0.8446 - val_loss: 0.3113 - val_acc: 0.8508\n",
            "Epoch 10/50\n",
            "49/49 - 25s - loss: 0.3418 - acc: 0.8343 - val_loss: 0.3090 - val_acc: 0.8476\n",
            "Epoch 11/50\n",
            "49/49 - 25s - loss: 0.3395 - acc: 0.8377 - val_loss: 0.2995 - val_acc: 0.8492\n",
            "Epoch 12/50\n",
            "49/49 - 25s - loss: 0.3272 - acc: 0.8459 - val_loss: 0.2998 - val_acc: 0.8603\n",
            "Epoch 13/50\n",
            "49/49 - 25s - loss: 0.3211 - acc: 0.8398 - val_loss: 0.2935 - val_acc: 0.8508\n",
            "Epoch 14/50\n",
            "49/49 - 25s - loss: 0.3270 - acc: 0.8377 - val_loss: 0.2972 - val_acc: 0.8587\n",
            "Epoch 15/50\n",
            "49/49 - 25s - loss: 0.3311 - acc: 0.8432 - val_loss: 0.3043 - val_acc: 0.8571\n",
            "Epoch 16/50\n",
            "49/49 - 25s - loss: 0.3239 - acc: 0.8521 - val_loss: 0.2978 - val_acc: 0.8460\n",
            "Epoch 17/50\n",
            "49/49 - 25s - loss: 0.3063 - acc: 0.8618 - val_loss: 0.2965 - val_acc: 0.8540\n",
            "Epoch 18/50\n",
            "49/49 - 25s - loss: 0.3138 - acc: 0.8501 - val_loss: 0.2932 - val_acc: 0.8524\n",
            "Epoch 19/50\n",
            "49/49 - 25s - loss: 0.3131 - acc: 0.8597 - val_loss: 0.2923 - val_acc: 0.8571\n",
            "Epoch 20/50\n",
            "49/49 - 25s - loss: 0.3060 - acc: 0.8576 - val_loss: 0.2879 - val_acc: 0.8619\n",
            "Epoch 21/50\n",
            "49/49 - 25s - loss: 0.3060 - acc: 0.8542 - val_loss: 0.3043 - val_acc: 0.8476\n",
            "Epoch 22/50\n",
            "49/49 - 25s - loss: 0.2991 - acc: 0.8659 - val_loss: 0.2829 - val_acc: 0.8635\n",
            "Epoch 23/50\n",
            "49/49 - 25s - loss: 0.3103 - acc: 0.8556 - val_loss: 0.2842 - val_acc: 0.8667\n",
            "Epoch 24/50\n",
            "49/49 - 25s - loss: 0.2889 - acc: 0.8680 - val_loss: 0.2860 - val_acc: 0.8508\n",
            "Epoch 25/50\n",
            "49/49 - 25s - loss: 0.2808 - acc: 0.8796 - val_loss: 0.2856 - val_acc: 0.8619\n",
            "Epoch 26/50\n",
            "49/49 - 25s - loss: 0.2872 - acc: 0.8680 - val_loss: 0.2788 - val_acc: 0.8762\n",
            "Epoch 27/50\n",
            "49/49 - 25s - loss: 0.2903 - acc: 0.8631 - val_loss: 0.2805 - val_acc: 0.8778\n",
            "Epoch 28/50\n",
            "49/49 - 25s - loss: 0.2734 - acc: 0.8790 - val_loss: 0.2804 - val_acc: 0.8746\n",
            "Epoch 29/50\n",
            "49/49 - 25s - loss: 0.2917 - acc: 0.8686 - val_loss: 0.2865 - val_acc: 0.8746\n",
            "Epoch 30/50\n",
            "49/49 - 25s - loss: 0.2819 - acc: 0.8783 - val_loss: 0.2751 - val_acc: 0.8794\n",
            "Epoch 31/50\n",
            "49/49 - 25s - loss: 0.2890 - acc: 0.8748 - val_loss: 0.2778 - val_acc: 0.8683\n",
            "Epoch 32/50\n",
            "49/49 - 25s - loss: 0.2974 - acc: 0.8611 - val_loss: 0.2750 - val_acc: 0.8698\n",
            "Epoch 33/50\n",
            "49/49 - 25s - loss: 0.2828 - acc: 0.8728 - val_loss: 0.2890 - val_acc: 0.8714\n",
            "Epoch 34/50\n",
            "49/49 - 25s - loss: 0.2634 - acc: 0.8810 - val_loss: 0.2802 - val_acc: 0.8794\n",
            "Epoch 35/50\n",
            "49/49 - 25s - loss: 0.2879 - acc: 0.8680 - val_loss: 0.2731 - val_acc: 0.8889\n",
            "Epoch 36/50\n",
            "49/49 - 25s - loss: 0.2638 - acc: 0.8900 - val_loss: 0.2871 - val_acc: 0.8698\n",
            "Epoch 37/50\n",
            "49/49 - 25s - loss: 0.2852 - acc: 0.8714 - val_loss: 0.2900 - val_acc: 0.8794\n",
            "Epoch 38/50\n",
            "49/49 - 25s - loss: 0.2674 - acc: 0.8790 - val_loss: 0.2716 - val_acc: 0.8762\n",
            "Epoch 39/50\n",
            "49/49 - 25s - loss: 0.2641 - acc: 0.8845 - val_loss: 0.2664 - val_acc: 0.8905\n",
            "Epoch 40/50\n",
            "49/49 - 25s - loss: 0.2694 - acc: 0.8803 - val_loss: 0.2641 - val_acc: 0.8889\n",
            "Epoch 41/50\n",
            "49/49 - 25s - loss: 0.2543 - acc: 0.8934 - val_loss: 0.2665 - val_acc: 0.8905\n",
            "Epoch 42/50\n",
            "49/49 - 25s - loss: 0.2598 - acc: 0.8838 - val_loss: 0.2632 - val_acc: 0.8952\n",
            "Epoch 43/50\n",
            "49/49 - 25s - loss: 0.2670 - acc: 0.8686 - val_loss: 0.2672 - val_acc: 0.8921\n",
            "Epoch 44/50\n",
            "49/49 - 25s - loss: 0.2638 - acc: 0.8762 - val_loss: 0.2669 - val_acc: 0.8825\n",
            "Epoch 45/50\n",
            "49/49 - 25s - loss: 0.2539 - acc: 0.8865 - val_loss: 0.2783 - val_acc: 0.8825\n",
            "Epoch 46/50\n",
            "49/49 - 25s - loss: 0.2531 - acc: 0.8955 - val_loss: 0.2561 - val_acc: 0.9016\n",
            "Epoch 47/50\n",
            "49/49 - 25s - loss: 0.2585 - acc: 0.8817 - val_loss: 0.2597 - val_acc: 0.8841\n",
            "Epoch 48/50\n",
            "49/49 - 25s - loss: 0.2549 - acc: 0.8783 - val_loss: 0.2604 - val_acc: 0.8968\n",
            "Epoch 49/50\n",
            "49/49 - 26s - loss: 0.2453 - acc: 0.8906 - val_loss: 0.2523 - val_acc: 0.8984\n",
            "Epoch 50/50\n",
            "49/49 - 25s - loss: 0.2588 - acc: 0.8872 - val_loss: 0.2621 - val_acc: 0.8873\n"
          ],
          "name": "stdout"
        }
      ]
    },
    {
      "cell_type": "code",
      "metadata": {
        "colab": {
          "base_uri": "https://localhost:8080/",
          "height": 562
        },
        "id": "9oFbejmpZv4E",
        "outputId": "4c289f78-2b49-4294-eb23-6746f50c02d4"
      },
      "source": [
        "%matplotlib inline\n",
        "import matplotlib.pyplot as plt\n",
        "\n",
        "# Retrieve a list of accuracy results on training and validation data\n",
        "# sets for each training epoch\n",
        "acc_1 = history.history['acc']\n",
        "val_acc_1 = history.history['val_acc']\n",
        "\n",
        "# Retrieve a list of list results on training and validation data\n",
        "# sets for each training epoch\n",
        "loss_1 = history.history['loss']\n",
        "val_loss_1 = history.history['val_loss']\n",
        "\n",
        "# Get number of epochs\n",
        "epochs = range(len(acc))\n",
        "\n",
        "# Plot training and validation accuracy per epoch\n",
        "plt.plot(epochs, acc_1, label='Train')\n",
        "plt.plot(epochs, val_acc_1, label='Test')\n",
        "plt.title('Training and validation accuracy')\n",
        "plt.legend()\n",
        "\n",
        "plt.figure()\n",
        "\n",
        "# Plot training and validation loss per epoch\n",
        "plt.plot(epochs, loss_1, label='Train')\n",
        "plt.plot(epochs, val_loss_1,label='Test')\n",
        "plt.title('Training and validation loss')\n",
        "plt.legend()\n"
      ],
      "execution_count": null,
      "outputs": [
        {
          "output_type": "execute_result",
          "data": {
            "text/plain": [
              "<matplotlib.legend.Legend at 0x7effa2043b00>"
            ]
          },
          "metadata": {
            "tags": []
          },
          "execution_count": 9
        },
        {
          "output_type": "display_data",
          "data": {
            "image/png": "[encoded data removed]",
            "text/plain": [
              "<Figure size 432x288 with 1 Axes>"
            ]
          },
          "metadata": {
            "tags": [],
            "needs_background": "light"
          }
        },
        {
          "output_type": "display_data",
          "data": {
            "image/png": "[encoded data removed]",
            "text/plain": [
              "<Figure size 432x288 with 1 Axes>"
            ]
          },
          "metadata": {
            "tags": [],
            "needs_background": "light"
          }
        }
      ]
    },
    {
      "cell_type": "code",
      "metadata": {
        "id": "dSmvzmxhgn7k",
        "colab": {
          "base_uri": "https://localhost:8080/"
        },
        "outputId": "bc9b55f7-c8c9-4498-c069-5fc63898534e"
      },
      "source": [
        "## train network (round 2)\n",
        "with tf.device('/device:GPU:0'):  \n",
        "  history = model.fit_generator(\n",
        "        train_generator,\n",
        "        steps_per_epoch=49,\n",
        "        epochs=50,\n",
        "        validation_data=validation_generator,\n",
        "        validation_steps=21,\n",
        "        verbose=2)\n"
      ],
      "execution_count": null,
      "outputs": [
        {
          "output_type": "stream",
          "text": [
            "/usr/local/lib/python3.6/dist-packages/tensorflow/python/keras/engine/training.py:1844: UserWarning: `Model.fit_generator` is deprecated and will be removed in a future version. Please use `Model.fit`, which supports generators.\n",
            "  warnings.warn('`Model.fit_generator` is deprecated and '\n"
          ],
          "name": "stderr"
        },
        {
          "output_type": "stream",
          "text": [
            "Epoch 1/50\n",
            "49/49 - 26s - loss: 0.2533 - acc: 0.8845 - val_loss: 0.2573 - val_acc: 0.8937\n",
            "Epoch 2/50\n",
            "49/49 - 25s - loss: 0.2489 - acc: 0.8913 - val_loss: 0.2562 - val_acc: 0.8889\n",
            "Epoch 3/50\n",
            "49/49 - 25s - loss: 0.2578 - acc: 0.8906 - val_loss: 0.2588 - val_acc: 0.8873\n",
            "Epoch 4/50\n",
            "49/49 - 25s - loss: 0.2503 - acc: 0.8831 - val_loss: 0.2667 - val_acc: 0.8794\n",
            "Epoch 5/50\n",
            "49/49 - 25s - loss: 0.2508 - acc: 0.8851 - val_loss: 0.2579 - val_acc: 0.8937\n",
            "Epoch 6/50\n",
            "49/49 - 25s - loss: 0.2577 - acc: 0.8851 - val_loss: 0.2606 - val_acc: 0.8937\n",
            "Epoch 7/50\n",
            "49/49 - 25s - loss: 0.2423 - acc: 0.8886 - val_loss: 0.2495 - val_acc: 0.8984\n",
            "Epoch 8/50\n",
            "49/49 - 25s - loss: 0.2293 - acc: 0.9023 - val_loss: 0.2496 - val_acc: 0.9016\n",
            "Epoch 9/50\n",
            "49/49 - 26s - loss: 0.2570 - acc: 0.8810 - val_loss: 0.2552 - val_acc: 0.8984\n",
            "Epoch 10/50\n",
            "49/49 - 25s - loss: 0.2256 - acc: 0.9058 - val_loss: 0.2477 - val_acc: 0.8921\n",
            "Epoch 11/50\n",
            "49/49 - 25s - loss: 0.2295 - acc: 0.9037 - val_loss: 0.2534 - val_acc: 0.8937\n",
            "Epoch 12/50\n",
            "49/49 - 25s - loss: 0.2318 - acc: 0.8996 - val_loss: 0.2581 - val_acc: 0.8889\n",
            "Epoch 13/50\n",
            "49/49 - 25s - loss: 0.2357 - acc: 0.8920 - val_loss: 0.2432 - val_acc: 0.8952\n",
            "Epoch 14/50\n",
            "49/49 - 25s - loss: 0.2430 - acc: 0.8913 - val_loss: 0.2682 - val_acc: 0.8905\n",
            "Epoch 15/50\n",
            "49/49 - 25s - loss: 0.2254 - acc: 0.9017 - val_loss: 0.2444 - val_acc: 0.9079\n",
            "Epoch 16/50\n",
            "49/49 - 25s - loss: 0.2223 - acc: 0.9072 - val_loss: 0.2421 - val_acc: 0.9000\n",
            "Epoch 17/50\n",
            "49/49 - 25s - loss: 0.2364 - acc: 0.8900 - val_loss: 0.2562 - val_acc: 0.8873\n",
            "Epoch 18/50\n",
            "49/49 - 25s - loss: 0.2448 - acc: 0.8900 - val_loss: 0.2476 - val_acc: 0.8841\n",
            "Epoch 19/50\n",
            "49/49 - 25s - loss: 0.2324 - acc: 0.8996 - val_loss: 0.2441 - val_acc: 0.8984\n",
            "Epoch 20/50\n",
            "49/49 - 25s - loss: 0.2183 - acc: 0.9078 - val_loss: 0.2466 - val_acc: 0.8984\n",
            "Epoch 21/50\n",
            "49/49 - 25s - loss: 0.2303 - acc: 0.9030 - val_loss: 0.2442 - val_acc: 0.9048\n",
            "Epoch 22/50\n",
            "49/49 - 25s - loss: 0.2355 - acc: 0.8893 - val_loss: 0.2471 - val_acc: 0.8968\n",
            "Epoch 23/50\n",
            "49/49 - 25s - loss: 0.2437 - acc: 0.8989 - val_loss: 0.2500 - val_acc: 0.8984\n",
            "Epoch 24/50\n",
            "49/49 - 25s - loss: 0.2100 - acc: 0.9140 - val_loss: 0.2411 - val_acc: 0.9079\n",
            "Epoch 25/50\n",
            "49/49 - 25s - loss: 0.2092 - acc: 0.9044 - val_loss: 0.2420 - val_acc: 0.9000\n",
            "Epoch 26/50\n",
            "49/49 - 25s - loss: 0.2139 - acc: 0.9099 - val_loss: 0.2614 - val_acc: 0.8857\n",
            "Epoch 27/50\n",
            "49/49 - 25s - loss: 0.2214 - acc: 0.9120 - val_loss: 0.2395 - val_acc: 0.9095\n",
            "Epoch 28/50\n",
            "49/49 - 25s - loss: 0.2084 - acc: 0.9140 - val_loss: 0.2463 - val_acc: 0.9032\n",
            "Epoch 29/50\n",
            "49/49 - 25s - loss: 0.2133 - acc: 0.9168 - val_loss: 0.2433 - val_acc: 0.9016\n",
            "Epoch 30/50\n",
            "49/49 - 25s - loss: 0.2175 - acc: 0.9065 - val_loss: 0.2451 - val_acc: 0.9032\n",
            "Epoch 31/50\n",
            "49/49 - 25s - loss: 0.2249 - acc: 0.9051 - val_loss: 0.2523 - val_acc: 0.8889\n",
            "Epoch 32/50\n",
            "49/49 - 25s - loss: 0.2052 - acc: 0.9133 - val_loss: 0.2418 - val_acc: 0.9016\n",
            "Epoch 33/50\n",
            "49/49 - 25s - loss: 0.2159 - acc: 0.9044 - val_loss: 0.2461 - val_acc: 0.9016\n",
            "Epoch 34/50\n",
            "49/49 - 25s - loss: 0.2190 - acc: 0.9037 - val_loss: 0.2468 - val_acc: 0.8984\n",
            "Epoch 35/50\n",
            "49/49 - 25s - loss: 0.2167 - acc: 0.9051 - val_loss: 0.2432 - val_acc: 0.9016\n",
            "Epoch 36/50\n",
            "49/49 - 25s - loss: 0.2152 - acc: 0.8996 - val_loss: 0.2488 - val_acc: 0.8921\n",
            "Epoch 37/50\n",
            "49/49 - 25s - loss: 0.2080 - acc: 0.9072 - val_loss: 0.2359 - val_acc: 0.9063\n",
            "Epoch 38/50\n",
            "49/49 - 25s - loss: 0.2039 - acc: 0.9078 - val_loss: 0.2325 - val_acc: 0.9032\n",
            "Epoch 39/50\n",
            "49/49 - 25s - loss: 0.2081 - acc: 0.9092 - val_loss: 0.2321 - val_acc: 0.9063\n",
            "Epoch 40/50\n",
            "49/49 - 25s - loss: 0.1987 - acc: 0.9140 - val_loss: 0.2277 - val_acc: 0.9095\n",
            "Epoch 41/50\n",
            "49/49 - 25s - loss: 0.2018 - acc: 0.9161 - val_loss: 0.2488 - val_acc: 0.8889\n",
            "Epoch 42/50\n",
            "49/49 - 25s - loss: 0.1867 - acc: 0.9230 - val_loss: 0.2649 - val_acc: 0.8873\n",
            "Epoch 43/50\n",
            "49/49 - 25s - loss: 0.1939 - acc: 0.9175 - val_loss: 0.2341 - val_acc: 0.9095\n",
            "Epoch 44/50\n",
            "49/49 - 25s - loss: 0.1989 - acc: 0.9136 - val_loss: 0.2466 - val_acc: 0.9048\n",
            "Epoch 45/50\n",
            "49/49 - 25s - loss: 0.2086 - acc: 0.9127 - val_loss: 0.2374 - val_acc: 0.8952\n",
            "Epoch 46/50\n",
            "49/49 - 25s - loss: 0.1831 - acc: 0.9278 - val_loss: 0.2323 - val_acc: 0.9048\n",
            "Epoch 47/50\n",
            "49/49 - 25s - loss: 0.1920 - acc: 0.9188 - val_loss: 0.2340 - val_acc: 0.9063\n",
            "Epoch 48/50\n",
            "49/49 - 25s - loss: 0.1985 - acc: 0.9168 - val_loss: 0.2348 - val_acc: 0.9063\n",
            "Epoch 49/50\n",
            "49/49 - 25s - loss: 0.2100 - acc: 0.9085 - val_loss: 0.2466 - val_acc: 0.9000\n",
            "Epoch 50/50\n",
            "49/49 - 25s - loss: 0.1996 - acc: 0.9140 - val_loss: 0.2387 - val_acc: 0.9032\n"
          ],
          "name": "stdout"
        }
      ]
    },
    {
      "cell_type": "code",
      "metadata": {
        "colab": {
          "base_uri": "https://localhost:8080/",
          "height": 232
        },
        "id": "ysAA3KwLwJUE",
        "outputId": "54cc480e-757a-4e7a-e630-6df60b83dfa9"
      },
      "source": [
        "%matplotlib inline\n",
        "import matplotlib.pyplot as plt\n",
        "\n",
        "# Retrieve a list of accuracy results on training and validation data\n",
        "# sets for each training epoch\n",
        "acc_2 = history.history['acc']\n",
        "val_acc_2 = history.history['val_acc']\n",
        "\n",
        "# Retrieve a list of list results on training and validation data\n",
        "# sets for each training epoch\n",
        "loss_2 = history.history['loss']\n",
        "val_loss_2 = history.history['val_loss']\n",
        "\n",
        "# concatenate accuracy and loss from two rounds of training \n",
        "\n",
        "acc = acc_1 + acc_2\n",
        "val_acc = val_acc_1 + val_acc_2\n",
        "loss = loss_1 + loss_2\n",
        "val_loss = val_loss_1 + val_loss_2 \n",
        "\n",
        "# Get number of epochs\n",
        "epochs = range(len(acc))\n",
        "\n",
        "# Plot training and validation accuracy per epoch\n",
        "plt.plot(epochs[1:71], acc[1:71], label='Train')\n",
        "plt.plot(epochs[1:71], val_acc[1:71], label='Test')\n",
        "plt.title('Training and validation accuracy')\n",
        "plt.legend()\n",
        "\n",
        "plt.figure()\n",
        "\n",
        "# Plot training and validation loss per epoch\n",
        "plt.plot(epochs[1:71], loss[1:71], label='Train')\n",
        "plt.plot(epochs[1:71], val_loss[1:71],label='Test')\n",
        "plt.title('Training and validation loss')\n",
        "plt.legend()\n",
        "\n",
        "\n",
        "print('Training Accuracy: ', acc[70])\n",
        "print('Validation Accuracy: ', val_acc[70])\n"
      ],
      "execution_count": null,
      "outputs": [
        {
          "output_type": "error",
          "ename": "NameError",
          "evalue": "ignored",
          "traceback": [
            "\u001b[0;31m---------------------------------------------------------------------------\u001b[0m",
            "\u001b[0;31mNameError\u001b[0m                                 Traceback (most recent call last)",
            "\u001b[0;32m<ipython-input-1-5d520022cf64>\u001b[0m in \u001b[0;36m<module>\u001b[0;34m()\u001b[0m\n\u001b[1;32m      4\u001b[0m \u001b[0;31m# Retrieve a list of accuracy results on training and validation data\u001b[0m\u001b[0;34m\u001b[0m\u001b[0;34m\u001b[0m\u001b[0;34m\u001b[0m\u001b[0m\n\u001b[1;32m      5\u001b[0m \u001b[0;31m# sets for each training epoch\u001b[0m\u001b[0;34m\u001b[0m\u001b[0;34m\u001b[0m\u001b[0;34m\u001b[0m\u001b[0m\n\u001b[0;32m----> 6\u001b[0;31m \u001b[0macc_2\u001b[0m \u001b[0;34m=\u001b[0m \u001b[0mhistory\u001b[0m\u001b[0;34m.\u001b[0m\u001b[0mhistory\u001b[0m\u001b[0;34m[\u001b[0m\u001b[0;34m'acc'\u001b[0m\u001b[0;34m]\u001b[0m\u001b[0;34m\u001b[0m\u001b[0;34m\u001b[0m\u001b[0m\n\u001b[0m\u001b[1;32m      7\u001b[0m \u001b[0mval_acc_2\u001b[0m \u001b[0;34m=\u001b[0m \u001b[0mhistory\u001b[0m\u001b[0;34m.\u001b[0m\u001b[0mhistory\u001b[0m\u001b[0;34m[\u001b[0m\u001b[0;34m'val_acc'\u001b[0m\u001b[0;34m]\u001b[0m\u001b[0;34m\u001b[0m\u001b[0;34m\u001b[0m\u001b[0m\n\u001b[1;32m      8\u001b[0m \u001b[0;34m\u001b[0m\u001b[0m\n",
            "\u001b[0;31mNameError\u001b[0m: name 'history' is not defined"
          ]
        }
      ]
    },
    {
      "cell_type": "code",
      "metadata": {
        "id": "SnNrIVpl1fzn"
      },
      "source": [
        ""
      ],
      "execution_count": null,
      "outputs": []
    }
  ]
}