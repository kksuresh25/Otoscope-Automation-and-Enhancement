{
  "nbformat": 4,
  "nbformat_minor": 0,
  "metadata": {
    "colab": {
      "name": "otoai_classifier_convnet.ipynb",
      "provenance": [],
      "collapsed_sections": [],
      "authorship_tag": "ABX9TyMO3BDJ8zU9DaB0J2kFnfpy",
      "include_colab_link": true
    },
    "kernelspec": {
      "name": "python3",
      "display_name": "Python 3"
    },
    "accelerator": "GPU"
  },
  "cells": [
    {
      "cell_type": "markdown",
      "metadata": {
        "id": "view-in-github",
        "colab_type": "text"
      },
      "source": [
        "<a href=\"https://colab.research.google.com/github/JonathanMairena/Otoscope-Automation-and-Enhancement/blob/main/otoai_classifier_convnet.ipynb\" target=\"_parent\"><img src=\"https://colab.research.google.com/assets/colab-badge.svg\" alt=\"Open In Colab\"/></a>"
      ]
    },
    {
      "cell_type": "markdown",
      "metadata": {
        "id": "Yq6rzHug9-oa"
      },
      "source": [
        "#Load and pre-process data "
      ]
    },
    {
      "cell_type": "code",
      "metadata": {
        "id": "EypkhkpQ-Ai0",
        "colab": {
          "base_uri": "https://localhost:8080/"
        },
        "outputId": "7372cbce-190f-4f37-bd8e-8cde9caf26a3"
      },
      "source": [
        "##access images in drive \n",
        "from google.colab import drive\n",
        "drive.mount('/content/drive')\n",
        "%cd /content/drive/My\\ Drive/Senior\\ Design/"
      ],
      "execution_count": null,
      "outputs": [
        {
          "output_type": "stream",
          "text": [
            "Drive already mounted at /content/drive; to attempt to forcibly remount, call drive.mount(\"/content/drive\", force_remount=True).\n",
            "/content/drive/My Drive/Senior Design\n"
          ],
          "name": "stdout"
        }
      ]
    },
    {
      "cell_type": "code",
      "metadata": {
        "id": "fnE8A1r3-B8Q"
      },
      "source": [
        "##split images into training and validation sets \n",
        "import shutil \n",
        "import os \n",
        "import math \n",
        "import random\n",
        "\n",
        "#define proportions \n",
        "train_prop = 0.7 \n",
        "valid_prop = 0.3 \n",
        "\n",
        "#define variables \n",
        "category_list = ['Normal','Abnormal']\n",
        "src_dir = '/content/drive/My Drive/Senior Design/database/'\n",
        "dest_dir = '/content/drive/My Drive/Senior Design/database_custom_split/'\n",
        "\n",
        "for cat in category_list:\n",
        "  #path names\n",
        "  src_path = src_dir + cat\n",
        "  dest_dir1 = dest_dir+'train/'+cat\n",
        "  dest_dir2 = dest_dir+'validation/'+cat\n",
        "\n",
        "  #file names \n",
        "  os.chdir(src_path)\n",
        "  files = [f for f in os.listdir() if os.path.isfile(f)]\n",
        "  random.shuffle(files)\n",
        "\n",
        "  #get training and validation file coutns \n",
        "  train_count = math.ceil(train_prop*len(files))\n",
        "  valid_count = len(files)-train_count \n",
        "\n",
        "  #get files to segregate train and validation\n",
        "  train_data_list = files[0:train_count]\n",
        "  valid_data_list = files[train_count+1:]\n",
        "\n",
        "  #copy files from source to destination \n",
        "  for train_data in train_data_list: \n",
        "    train_path = src_path+'/'+train_data\n",
        "    shutil.copy(train_path,dest_dir1)\n",
        "  \n",
        "  for valid_data in valid_data_list: \n",
        "    valid_path = src_path+'/'+valid_data\n",
        "    shutil.copy(valid_path,dest_dir2)\n",
        "    "
      ],
      "execution_count": null,
      "outputs": []
    },
    {
      "cell_type": "code",
      "metadata": {
        "id": "gxzq9fPj-yDN",
        "colab": {
          "base_uri": "https://localhost:8080/"
        },
        "outputId": "25feefad-a3b7-4d05-cc22-e0d2e09aebbd"
      },
      "source": [
        "##assign directories for training and validation \n",
        "import os\n",
        "\n",
        "base_dir = '/content/drive/My Drive/Senior Design/database_custom_split/'\n",
        "train_dir = os.path.join(base_dir, 'train')\n",
        "validation_dir = os.path.join(base_dir, 'validation')\n",
        "\n",
        "# Directory with our training abnormal pictures\n",
        "train_abnormal_dir = os.path.join(train_dir, 'Abnormal')\n",
        "\n",
        "# Directory with our training normal pictures\n",
        "train_normal_dir = os.path.join(train_dir, 'Normal')\n",
        "\n",
        "# Directory with our validation abnormal pictures\n",
        "validation_abnormal_dir = os.path.join(validation_dir, 'Abnormal')\n",
        "\n",
        "# Directory with our validation normal pictures\n",
        "validation_normal_dir = os.path.join(validation_dir, 'Normal')\n",
        "\n",
        "# Check number of training and test images \n",
        "print('total training abnormal images:', len(os.listdir(train_abnormal_dir)))\n",
        "print('total training normal images:', len(os.listdir(train_normal_dir)))\n",
        "print('total validation abnormal images:', len(os.listdir(validation_abnormal_dir)))\n",
        "print('total validation normal images:', len(os.listdir(validation_normal_dir)))"
      ],
      "execution_count": null,
      "outputs": [
        {
          "output_type": "stream",
          "text": [
            "total training abnormal images: 847\n",
            "total training normal images: 637\n",
            "total validation abnormal images: 361\n",
            "total validation normal images: 271\n"
          ],
          "name": "stdout"
        }
      ]
    },
    {
      "cell_type": "code",
      "metadata": {
        "id": "xBYM_iW1CzM3",
        "colab": {
          "base_uri": "https://localhost:8080/"
        },
        "outputId": "baf97db0-a972-4c16-e97b-b32d59ba3e50"
      },
      "source": [
        "##data augmentation, flow train + validation images \n",
        "\n",
        "from tensorflow.keras.preprocessing.image import ImageDataGenerator\n",
        "\n",
        "# Adding rescale, rotation_range, width_shift_range, height_shift_range,\n",
        "# shear_range, zoom_range, and horizontal flip to our ImageDataGenerator\n",
        "train_datagen = ImageDataGenerator(\n",
        "    rescale=1./255,\n",
        "    rotation_range=40,\n",
        "    width_shift_range=0.2,\n",
        "    height_shift_range=0.2,\n",
        "    shear_range=0.2,\n",
        "    zoom_range=0.2,\n",
        "    horizontal_flip=True,)\n",
        "\n",
        "# Note that the validation data should not be augmented!\n",
        "val_datagen = ImageDataGenerator(rescale=1./255)\n",
        "\n",
        "# Flow training images in batches of 32 using train_datagen generator\n",
        "train_generator = train_datagen.flow_from_directory(\n",
        "        train_dir,  # This is the source directory for training images\n",
        "        target_size=(150, 150),  # All images will be resized to 150x150\n",
        "        batch_size=30,\n",
        "        # Since we use binary_crossentropy loss, we need binary labels\n",
        "        class_mode='binary')\n",
        "\n",
        "# Flow validation images in batches of 32 using val_datagen generator\n",
        "validation_generator = val_datagen.flow_from_directory(\n",
        "        validation_dir,\n",
        "        target_size=(150, 150),\n",
        "        batch_size=30,\n",
        "        class_mode='binary')\n"
      ],
      "execution_count": null,
      "outputs": [
        {
          "output_type": "stream",
          "text": [
            "Found 1484 images belonging to 2 classes.\n",
            "Found 632 images belonging to 2 classes.\n"
          ],
          "name": "stdout"
        }
      ]
    },
    {
      "cell_type": "markdown",
      "metadata": {
        "id": "UIH0K612C7-c"
      },
      "source": [
        "#Small ConvNet"
      ]
    },
    {
      "cell_type": "code",
      "metadata": {
        "id": "OqRowWtHC49K"
      },
      "source": [
        "##design network\n",
        "\n",
        "%tensorflow_version 2.x\n",
        "import tensorflow as tf\n",
        "from tensorflow.keras import layers\n",
        "from tensorflow.keras import Model\n",
        "from tensorflow.keras import layers\n",
        "from tensorflow.keras import Model\n",
        "from tensorflow.keras.optimizers import Adam\n",
        "\n",
        "with tf.device('/device:GPU:0'):\n",
        "  # Our input feature map is 150x150x3: 150x150 for the image pixels, and 3 for\n",
        "  # the three color channels: R, G, and B\n",
        "  img_input = layers.Input(shape=(150, 150, 3))\n",
        "\n",
        "  # First convolution extracts 16 filters that are 3x3\n",
        "  # Convolution is followed by max-pooling layer with a 2x2 window\n",
        "  x = layers.Conv2D(16, 3, activation='relu')(img_input)\n",
        "  x = layers.MaxPooling2D(2)(x)\n",
        "\n",
        "  # Second convolution extracts 32 filters that are 3x3\n",
        "  # Convolution is followed by max-pooling layer with a 2x2 window\n",
        "  x = layers.Conv2D(32, 3, activation='relu')(x)\n",
        "  x = layers.MaxPooling2D(2)(x)\n",
        "\n",
        "  # Third convolution extracts 64 filters that are 3x3\n",
        "  # Convolution is followed by max-pooling layer with a 2x2 window\n",
        "  x = layers.Convolution2D(64, 3, activation='relu')(x)\n",
        "  x = layers.MaxPooling2D(2)(x)\n",
        "\n",
        "  # Flatten feature map to a 1-dim tensor\n",
        "  x = layers.Flatten()(x)\n",
        "\n",
        "  # Create a fully connected layer with ReLU activation and 512 hidden units\n",
        "  x = layers.Dense(512, activation='relu')(x)\n",
        "\n",
        "  # Add a dropout rate of 0.5\n",
        "  x = layers.Dropout(0.5)(x)\n",
        "\n",
        "  # Create output layer with a single node and sigmoid activation\n",
        "  output = layers.Dense(1, activation='sigmoid')(x)\n",
        "\n",
        "  # Configure and compile the model\n",
        "  model = Model(img_input, output)\n",
        "  model.compile(loss='binary_crossentropy',\n",
        "                optimizer=Adam(lr=0.001),\n",
        "                metrics=['acc'])\n",
        "  "
      ],
      "execution_count": null,
      "outputs": []
    },
    {
      "cell_type": "code",
      "metadata": {
        "id": "j0iqjf5hDAnG",
        "colab": {
          "base_uri": "https://localhost:8080/"
        },
        "outputId": "9f8efdbc-4ad3-4f16-af6d-aa10313af6b6"
      },
      "source": [
        "##train network\n",
        "with tf.device('/device:GPU:0'):  \n",
        "  history = model.fit_generator(\n",
        "        train_generator,\n",
        "        steps_per_epoch=49,\n",
        "        epochs=125,\n",
        "        validation_data=validation_generator,\n",
        "        validation_steps=21,\n",
        "        verbose=2)\n",
        "  "
      ],
      "execution_count": null,
      "outputs": [
        {
          "output_type": "stream",
          "text": [
            "/usr/local/lib/python3.6/dist-packages/tensorflow/python/keras/engine/training.py:1844: UserWarning: `Model.fit_generator` is deprecated and will be removed in a future version. Please use `Model.fit`, which supports generators.\n",
            "  warnings.warn('`Model.fit_generator` is deprecated and '\n"
          ],
          "name": "stderr"
        },
        {
          "output_type": "stream",
          "text": [
            "Epoch 1/125\n",
            "49/49 - 25s - loss: 0.7740 - acc: 0.5750 - val_loss: 0.6063 - val_acc: 0.6635\n",
            "Epoch 2/125\n",
            "49/49 - 22s - loss: 0.6303 - acc: 0.6362 - val_loss: 0.5529 - val_acc: 0.7063\n",
            "Epoch 3/125\n",
            "49/49 - 22s - loss: 0.6060 - acc: 0.6713 - val_loss: 0.5716 - val_acc: 0.7238\n",
            "Epoch 4/125\n",
            "49/49 - 22s - loss: 0.6235 - acc: 0.6719 - val_loss: 0.6076 - val_acc: 0.7000\n",
            "Epoch 5/125\n",
            "49/49 - 22s - loss: 0.6250 - acc: 0.6637 - val_loss: 0.6566 - val_acc: 0.6571\n",
            "Epoch 6/125\n",
            "49/49 - 22s - loss: 0.6365 - acc: 0.6465 - val_loss: 0.6459 - val_acc: 0.6571\n",
            "Epoch 7/125\n",
            "49/49 - 22s - loss: 0.6241 - acc: 0.6568 - val_loss: 0.5838 - val_acc: 0.6825\n",
            "Epoch 8/125\n",
            "49/49 - 22s - loss: 0.6001 - acc: 0.6465 - val_loss: 0.5290 - val_acc: 0.7222\n",
            "Epoch 9/125\n",
            "49/49 - 22s - loss: 0.5652 - acc: 0.6850 - val_loss: 0.5046 - val_acc: 0.7206\n",
            "Epoch 10/125\n",
            "49/49 - 22s - loss: 0.5789 - acc: 0.6781 - val_loss: 0.5082 - val_acc: 0.7444\n",
            "Epoch 11/125\n",
            "49/49 - 22s - loss: 0.5711 - acc: 0.6781 - val_loss: 0.5137 - val_acc: 0.7524\n",
            "Epoch 12/125\n",
            "49/49 - 22s - loss: 0.5653 - acc: 0.6850 - val_loss: 0.4923 - val_acc: 0.7317\n",
            "Epoch 13/125\n",
            "49/49 - 22s - loss: 0.5420 - acc: 0.7008 - val_loss: 0.5040 - val_acc: 0.7683\n",
            "Epoch 14/125\n",
            "49/49 - 22s - loss: 0.5308 - acc: 0.7201 - val_loss: 0.5188 - val_acc: 0.7492\n",
            "Epoch 15/125\n",
            "49/49 - 22s - loss: 0.5480 - acc: 0.7029 - val_loss: 0.4609 - val_acc: 0.7683\n",
            "Epoch 16/125\n",
            "49/49 - 22s - loss: 0.5067 - acc: 0.7352 - val_loss: 0.4710 - val_acc: 0.7825\n",
            "Epoch 17/125\n",
            "49/49 - 22s - loss: 0.5393 - acc: 0.7228 - val_loss: 0.4743 - val_acc: 0.7651\n",
            "Epoch 18/125\n",
            "49/49 - 22s - loss: 0.5402 - acc: 0.7056 - val_loss: 0.5434 - val_acc: 0.7159\n",
            "Epoch 19/125\n",
            "49/49 - 22s - loss: 0.5521 - acc: 0.7008 - val_loss: 0.4957 - val_acc: 0.7413\n",
            "Epoch 20/125\n",
            "49/49 - 22s - loss: 0.5355 - acc: 0.7249 - val_loss: 0.5150 - val_acc: 0.7254\n",
            "Epoch 21/125\n",
            "49/49 - 22s - loss: 0.5128 - acc: 0.7366 - val_loss: 0.4087 - val_acc: 0.8079\n",
            "Epoch 22/125\n",
            "49/49 - 22s - loss: 0.4980 - acc: 0.7476 - val_loss: 0.4421 - val_acc: 0.7857\n",
            "Epoch 23/125\n",
            "49/49 - 22s - loss: 0.5200 - acc: 0.7352 - val_loss: 0.4798 - val_acc: 0.7492\n",
            "Epoch 24/125\n",
            "49/49 - 22s - loss: 0.5230 - acc: 0.7290 - val_loss: 0.4241 - val_acc: 0.8143\n",
            "Epoch 25/125\n",
            "49/49 - 22s - loss: 0.5035 - acc: 0.7366 - val_loss: 0.4363 - val_acc: 0.7984\n",
            "Epoch 26/125\n",
            "49/49 - 22s - loss: 0.4884 - acc: 0.7414 - val_loss: 0.4200 - val_acc: 0.7937\n",
            "Epoch 27/125\n",
            "49/49 - 22s - loss: 0.5028 - acc: 0.7455 - val_loss: 0.4307 - val_acc: 0.7921\n",
            "Epoch 28/125\n",
            "49/49 - 22s - loss: 0.5054 - acc: 0.7352 - val_loss: 0.4135 - val_acc: 0.8111\n",
            "Epoch 29/125\n",
            "49/49 - 22s - loss: 0.4874 - acc: 0.7565 - val_loss: 0.4039 - val_acc: 0.8000\n",
            "Epoch 30/125\n",
            "49/49 - 22s - loss: 0.4675 - acc: 0.7613 - val_loss: 0.4057 - val_acc: 0.8127\n",
            "Epoch 31/125\n",
            "49/49 - 22s - loss: 0.4820 - acc: 0.7600 - val_loss: 0.4344 - val_acc: 0.7984\n",
            "Epoch 32/125\n",
            "49/49 - 22s - loss: 0.4678 - acc: 0.7593 - val_loss: 0.4387 - val_acc: 0.7794\n",
            "Epoch 33/125\n",
            "49/49 - 22s - loss: 0.4715 - acc: 0.7538 - val_loss: 0.3819 - val_acc: 0.8286\n",
            "Epoch 34/125\n",
            "49/49 - 22s - loss: 0.4703 - acc: 0.7558 - val_loss: 0.4188 - val_acc: 0.7984\n",
            "Epoch 35/125\n",
            "49/49 - 22s - loss: 0.4664 - acc: 0.7620 - val_loss: 0.3808 - val_acc: 0.8222\n",
            "Epoch 36/125\n",
            "49/49 - 22s - loss: 0.4491 - acc: 0.7875 - val_loss: 0.4297 - val_acc: 0.7937\n",
            "Epoch 37/125\n",
            "49/49 - 22s - loss: 0.4424 - acc: 0.7779 - val_loss: 0.4473 - val_acc: 0.8000\n",
            "Epoch 38/125\n",
            "49/49 - 22s - loss: 0.4739 - acc: 0.7531 - val_loss: 0.3773 - val_acc: 0.8159\n",
            "Epoch 39/125\n",
            "49/49 - 22s - loss: 0.4658 - acc: 0.7682 - val_loss: 0.4544 - val_acc: 0.7841\n",
            "Epoch 40/125\n",
            "49/49 - 22s - loss: 0.4664 - acc: 0.7758 - val_loss: 0.3774 - val_acc: 0.8127\n",
            "Epoch 41/125\n",
            "49/49 - 22s - loss: 0.4353 - acc: 0.7861 - val_loss: 0.4414 - val_acc: 0.7762\n",
            "Epoch 42/125\n",
            "49/49 - 22s - loss: 0.4420 - acc: 0.7765 - val_loss: 0.3978 - val_acc: 0.8206\n",
            "Epoch 43/125\n",
            "49/49 - 22s - loss: 0.4399 - acc: 0.7765 - val_loss: 0.3754 - val_acc: 0.8206\n",
            "Epoch 44/125\n",
            "49/49 - 22s - loss: 0.4466 - acc: 0.7765 - val_loss: 0.3863 - val_acc: 0.8175\n",
            "Epoch 45/125\n",
            "49/49 - 22s - loss: 0.4337 - acc: 0.7930 - val_loss: 0.3698 - val_acc: 0.8254\n",
            "Epoch 46/125\n",
            "49/49 - 22s - loss: 0.4379 - acc: 0.7847 - val_loss: 0.4164 - val_acc: 0.8000\n",
            "Epoch 47/125\n",
            "49/49 - 22s - loss: 0.4460 - acc: 0.7744 - val_loss: 0.3888 - val_acc: 0.8206\n",
            "Epoch 48/125\n",
            "49/49 - 22s - loss: 0.4800 - acc: 0.7586 - val_loss: 0.3795 - val_acc: 0.8190\n",
            "Epoch 49/125\n",
            "49/49 - 22s - loss: 0.4323 - acc: 0.7895 - val_loss: 0.3756 - val_acc: 0.8222\n",
            "Epoch 50/125\n",
            "49/49 - 22s - loss: 0.4210 - acc: 0.7792 - val_loss: 0.4247 - val_acc: 0.8127\n",
            "Epoch 51/125\n",
            "49/49 - 22s - loss: 0.4143 - acc: 0.8019 - val_loss: 0.3832 - val_acc: 0.8159\n",
            "Epoch 52/125\n",
            "49/49 - 22s - loss: 0.4501 - acc: 0.7737 - val_loss: 0.3893 - val_acc: 0.8143\n",
            "Epoch 53/125\n",
            "49/49 - 22s - loss: 0.4242 - acc: 0.7999 - val_loss: 0.3814 - val_acc: 0.8238\n",
            "Epoch 54/125\n",
            "49/49 - 22s - loss: 0.4229 - acc: 0.7909 - val_loss: 0.3998 - val_acc: 0.8127\n",
            "Epoch 55/125\n",
            "49/49 - 22s - loss: 0.4296 - acc: 0.7861 - val_loss: 0.3792 - val_acc: 0.8238\n",
            "Epoch 56/125\n",
            "49/49 - 22s - loss: 0.4103 - acc: 0.7957 - val_loss: 0.3787 - val_acc: 0.8270\n",
            "Epoch 57/125\n",
            "49/49 - 22s - loss: 0.4283 - acc: 0.7882 - val_loss: 0.3740 - val_acc: 0.8302\n",
            "Epoch 58/125\n",
            "49/49 - 22s - loss: 0.4144 - acc: 0.8006 - val_loss: 0.3530 - val_acc: 0.8349\n",
            "Epoch 59/125\n",
            "49/49 - 22s - loss: 0.4192 - acc: 0.7971 - val_loss: 0.3624 - val_acc: 0.8429\n",
            "Epoch 60/125\n",
            "49/49 - 22s - loss: 0.4116 - acc: 0.8109 - val_loss: 0.3783 - val_acc: 0.8175\n",
            "Epoch 61/125\n",
            "49/49 - 22s - loss: 0.3928 - acc: 0.8171 - val_loss: 0.3727 - val_acc: 0.8270\n",
            "Epoch 62/125\n",
            "49/49 - 22s - loss: 0.4100 - acc: 0.8012 - val_loss: 0.3694 - val_acc: 0.8349\n",
            "Epoch 63/125\n",
            "49/49 - 22s - loss: 0.4125 - acc: 0.7957 - val_loss: 0.3686 - val_acc: 0.8349\n",
            "Epoch 64/125\n",
            "49/49 - 22s - loss: 0.4210 - acc: 0.7937 - val_loss: 0.3654 - val_acc: 0.8333\n",
            "Epoch 65/125\n",
            "49/49 - 22s - loss: 0.4098 - acc: 0.8081 - val_loss: 0.3672 - val_acc: 0.8317\n",
            "Epoch 66/125\n",
            "49/49 - 22s - loss: 0.4086 - acc: 0.8136 - val_loss: 0.3583 - val_acc: 0.8429\n",
            "Epoch 67/125\n",
            "49/49 - 22s - loss: 0.4162 - acc: 0.7992 - val_loss: 0.3612 - val_acc: 0.8286\n",
            "Epoch 68/125\n",
            "49/49 - 22s - loss: 0.4111 - acc: 0.8019 - val_loss: 0.3666 - val_acc: 0.8381\n",
            "Epoch 69/125\n",
            "49/49 - 22s - loss: 0.4126 - acc: 0.8033 - val_loss: 0.3494 - val_acc: 0.8603\n",
            "Epoch 70/125\n",
            "49/49 - 22s - loss: 0.3892 - acc: 0.8129 - val_loss: 0.4058 - val_acc: 0.8254\n",
            "Epoch 71/125\n",
            "49/49 - 22s - loss: 0.3906 - acc: 0.8143 - val_loss: 0.3596 - val_acc: 0.8317\n",
            "Epoch 72/125\n",
            "49/49 - 22s - loss: 0.3873 - acc: 0.8095 - val_loss: 0.3402 - val_acc: 0.8397\n",
            "Epoch 73/125\n",
            "49/49 - 22s - loss: 0.4112 - acc: 0.8074 - val_loss: 0.3699 - val_acc: 0.8333\n",
            "Epoch 74/125\n",
            "49/49 - 22s - loss: 0.3997 - acc: 0.7992 - val_loss: 0.3605 - val_acc: 0.8444\n",
            "Epoch 75/125\n",
            "49/49 - 22s - loss: 0.3870 - acc: 0.8232 - val_loss: 0.3854 - val_acc: 0.8206\n",
            "Epoch 76/125\n",
            "49/49 - 22s - loss: 0.3967 - acc: 0.8095 - val_loss: 0.3443 - val_acc: 0.8492\n",
            "Epoch 77/125\n",
            "49/49 - 22s - loss: 0.3916 - acc: 0.8198 - val_loss: 0.3383 - val_acc: 0.8556\n",
            "Epoch 78/125\n",
            "49/49 - 22s - loss: 0.3815 - acc: 0.8267 - val_loss: 0.3713 - val_acc: 0.8429\n",
            "Epoch 79/125\n",
            "49/49 - 22s - loss: 0.3874 - acc: 0.8109 - val_loss: 0.3393 - val_acc: 0.8444\n",
            "Epoch 80/125\n",
            "49/49 - 22s - loss: 0.3715 - acc: 0.8294 - val_loss: 0.3588 - val_acc: 0.8492\n",
            "Epoch 81/125\n",
            "49/49 - 22s - loss: 0.3737 - acc: 0.8336 - val_loss: 0.3510 - val_acc: 0.8476\n",
            "Epoch 82/125\n",
            "49/49 - 22s - loss: 0.3709 - acc: 0.8308 - val_loss: 0.3718 - val_acc: 0.8397\n",
            "Epoch 83/125\n",
            "49/49 - 22s - loss: 0.3735 - acc: 0.8198 - val_loss: 0.3574 - val_acc: 0.8429\n",
            "Epoch 84/125\n",
            "49/49 - 22s - loss: 0.3832 - acc: 0.8260 - val_loss: 0.3482 - val_acc: 0.8508\n",
            "Epoch 85/125\n",
            "49/49 - 22s - loss: 0.3673 - acc: 0.8322 - val_loss: 0.3575 - val_acc: 0.8365\n",
            "Epoch 86/125\n",
            "49/49 - 22s - loss: 0.4005 - acc: 0.8136 - val_loss: 0.3931 - val_acc: 0.8175\n",
            "Epoch 87/125\n",
            "49/49 - 22s - loss: 0.3624 - acc: 0.8308 - val_loss: 0.3534 - val_acc: 0.8508\n",
            "Epoch 88/125\n",
            "49/49 - 22s - loss: 0.3730 - acc: 0.8253 - val_loss: 0.3964 - val_acc: 0.8190\n",
            "Epoch 89/125\n",
            "49/49 - 22s - loss: 0.3767 - acc: 0.8150 - val_loss: 0.3596 - val_acc: 0.8333\n",
            "Epoch 90/125\n",
            "49/49 - 22s - loss: 0.3714 - acc: 0.8349 - val_loss: 0.3707 - val_acc: 0.8254\n",
            "Epoch 91/125\n",
            "49/49 - 22s - loss: 0.3983 - acc: 0.8116 - val_loss: 0.3430 - val_acc: 0.8556\n",
            "Epoch 92/125\n",
            "49/49 - 22s - loss: 0.3653 - acc: 0.8361 - val_loss: 0.3388 - val_acc: 0.8429\n",
            "Epoch 93/125\n",
            "49/49 - 22s - loss: 0.3525 - acc: 0.8411 - val_loss: 0.3662 - val_acc: 0.8444\n",
            "Epoch 94/125\n",
            "49/49 - 22s - loss: 0.3833 - acc: 0.8184 - val_loss: 0.3770 - val_acc: 0.8349\n",
            "Epoch 95/125\n",
            "49/49 - 22s - loss: 0.3695 - acc: 0.8218 - val_loss: 0.3353 - val_acc: 0.8540\n",
            "Epoch 96/125\n",
            "49/49 - 22s - loss: 0.3665 - acc: 0.8219 - val_loss: 0.3284 - val_acc: 0.8651\n",
            "Epoch 97/125\n",
            "49/49 - 22s - loss: 0.3551 - acc: 0.8384 - val_loss: 0.3387 - val_acc: 0.8635\n",
            "Epoch 98/125\n",
            "49/49 - 22s - loss: 0.3646 - acc: 0.8315 - val_loss: 0.3314 - val_acc: 0.8571\n",
            "Epoch 99/125\n",
            "49/49 - 22s - loss: 0.3611 - acc: 0.8301 - val_loss: 0.3680 - val_acc: 0.8349\n",
            "Epoch 100/125\n",
            "49/49 - 22s - loss: 0.3510 - acc: 0.8391 - val_loss: 0.3412 - val_acc: 0.8444\n",
            "Epoch 101/125\n",
            "49/49 - 22s - loss: 0.3734 - acc: 0.8232 - val_loss: 0.3325 - val_acc: 0.8619\n",
            "Epoch 102/125\n",
            "49/49 - 22s - loss: 0.3658 - acc: 0.8315 - val_loss: 0.3477 - val_acc: 0.8508\n",
            "Epoch 103/125\n",
            "49/49 - 22s - loss: 0.3590 - acc: 0.8287 - val_loss: 0.3331 - val_acc: 0.8556\n",
            "Epoch 104/125\n",
            "49/49 - 22s - loss: 0.3543 - acc: 0.8322 - val_loss: 0.3667 - val_acc: 0.8317\n",
            "Epoch 105/125\n",
            "49/49 - 22s - loss: 0.3651 - acc: 0.8294 - val_loss: 0.3224 - val_acc: 0.8651\n",
            "Epoch 106/125\n",
            "49/49 - 22s - loss: 0.3558 - acc: 0.8343 - val_loss: 0.3439 - val_acc: 0.8714\n",
            "Epoch 107/125\n",
            "49/49 - 22s - loss: 0.3505 - acc: 0.8384 - val_loss: 0.3389 - val_acc: 0.8746\n",
            "Epoch 108/125\n",
            "49/49 - 22s - loss: 0.3743 - acc: 0.8315 - val_loss: 0.3373 - val_acc: 0.8635\n",
            "Epoch 109/125\n",
            "49/49 - 22s - loss: 0.3308 - acc: 0.8508 - val_loss: 0.3378 - val_acc: 0.8508\n",
            "Epoch 110/125\n",
            "49/49 - 22s - loss: 0.3558 - acc: 0.8439 - val_loss: 0.3354 - val_acc: 0.8492\n",
            "Epoch 111/125\n",
            "49/49 - 22s - loss: 0.3635 - acc: 0.8219 - val_loss: 0.3436 - val_acc: 0.8349\n",
            "Epoch 112/125\n",
            "49/49 - 22s - loss: 0.3484 - acc: 0.8287 - val_loss: 0.3137 - val_acc: 0.8746\n",
            "Epoch 113/125\n",
            "49/49 - 22s - loss: 0.3503 - acc: 0.8404 - val_loss: 0.3330 - val_acc: 0.8651\n",
            "Epoch 114/125\n",
            "49/49 - 22s - loss: 0.3355 - acc: 0.8439 - val_loss: 0.3228 - val_acc: 0.8746\n",
            "Epoch 115/125\n",
            "49/49 - 22s - loss: 0.3270 - acc: 0.8466 - val_loss: 0.3699 - val_acc: 0.8476\n",
            "Epoch 116/125\n",
            "49/49 - 22s - loss: 0.3710 - acc: 0.8253 - val_loss: 0.3349 - val_acc: 0.8587\n",
            "Epoch 117/125\n",
            "49/49 - 22s - loss: 0.3507 - acc: 0.8418 - val_loss: 0.3434 - val_acc: 0.8444\n",
            "Epoch 118/125\n",
            "49/49 - 22s - loss: 0.3462 - acc: 0.8377 - val_loss: 0.3902 - val_acc: 0.7952\n",
            "Epoch 119/125\n",
            "49/49 - 22s - loss: 0.3729 - acc: 0.8164 - val_loss: 0.3632 - val_acc: 0.8143\n",
            "Epoch 120/125\n",
            "49/49 - 22s - loss: 0.3394 - acc: 0.8343 - val_loss: 0.3077 - val_acc: 0.8762\n",
            "Epoch 121/125\n",
            "49/49 - 22s - loss: 0.3462 - acc: 0.8494 - val_loss: 0.3226 - val_acc: 0.8619\n",
            "Epoch 122/125\n",
            "49/49 - 22s - loss: 0.3464 - acc: 0.8363 - val_loss: 0.3326 - val_acc: 0.8556\n",
            "Epoch 123/125\n",
            "49/49 - 22s - loss: 0.3351 - acc: 0.8439 - val_loss: 0.3103 - val_acc: 0.8794\n",
            "Epoch 124/125\n",
            "49/49 - 22s - loss: 0.3564 - acc: 0.8349 - val_loss: 0.3205 - val_acc: 0.8524\n",
            "Epoch 125/125\n",
            "49/49 - 22s - loss: 0.3714 - acc: 0.8315 - val_loss: 0.3077 - val_acc: 0.8714\n"
          ],
          "name": "stdout"
        }
      ]
    },
    {
      "cell_type": "code",
      "metadata": {
        "id": "lIxWGqspDF9M",
        "colab": {
          "base_uri": "https://localhost:8080/",
          "height": 562
        },
        "outputId": "f95e76a3-d869-4bc9-cdc3-04d55219df04"
      },
      "source": [
        "##Visualize loss and accuracy curves \n",
        "\n",
        "%matplotlib inline\n",
        "\n",
        "import matplotlib.pyplot as plt\n",
        "import matplotlib.image as mpimg\n",
        "\n",
        "# Retrieve a list of accuracy results on training and validation data\n",
        "# sets for each training epoch\n",
        "acc = history.history['acc']\n",
        "val_acc = history.history['val_acc']\n",
        "\n",
        "# Retrieve a list of list results on training and validation data\n",
        "# sets for each training epoch\n",
        "loss = history.history['loss']\n",
        "val_loss = history.history['val_loss']\n",
        "\n",
        "# Get number of epochs\n",
        "epochs = range(len(acc))\n",
        "\n",
        "# Plot training and validation accuracy per epoch\n",
        "plt.plot(epochs, acc, label='Train')\n",
        "plt.plot(epochs, val_acc, label='Test')\n",
        "plt.title('Training and validation accuracy')\n",
        "plt.legend()\n",
        "\n",
        "plt.figure()\n",
        "\n",
        "# Plot training and validation loss per epoch\n",
        "plt.plot(epochs, loss, label='Train')\n",
        "plt.plot(epochs, val_loss,label='Test')\n",
        "plt.title('Training and validation loss')\n",
        "plt.legend()"
      ],
      "execution_count": null,
      "outputs": [
        {
          "output_type": "execute_result",
          "data": {
            "text/plain": [
              "<matplotlib.legend.Legend at 0x7f0fc058bf28>"
            ]
          },
          "metadata": {
            "tags": []
          },
          "execution_count": 6
        },
        {
          "output_type": "display_data",
          "data": {
            "image/png": "[encoded data removed]",
            "text/plain": [
              "<Figure size 432x288 with 1 Axes>"
            ]
          },
          "metadata": {
            "tags": [],
            "needs_background": "light"
          }
        },
        {
          "output_type": "display_data",
          "data": {
            "image/png": "[encoded data removed]",
            "text/plain": [
              "<Figure size 432x288 with 1 Axes>"
            ]
          },
          "metadata": {
            "tags": [],
            "needs_background": "light"
          }
        }
      ]
    },
    {
      "cell_type": "code",
      "metadata": {
        "id": "4TucAkY_ZWmW"
      },
      "source": [
        ""
      ],
      "execution_count": null,
      "outputs": []
    }
  ]
}